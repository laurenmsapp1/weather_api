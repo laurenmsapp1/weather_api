{
 "cells": [
  {
   "cell_type": "code",
   "execution_count": 58,
   "id": "e542f129",
   "metadata": {},
   "outputs": [
    {
     "name": "stdout",
     "output_type": "stream",
     "text": [
      "Requirement already satisfied: ipykernel in c:\\users\\laurensapp\\appdata\\roaming\\python\\python313\\site-packages (6.30.1)\n",
      "Requirement already satisfied: comm>=0.1.1 in c:\\users\\laurensapp\\appdata\\roaming\\python\\python313\\site-packages (from ipykernel) (0.2.3)\n",
      "Requirement already satisfied: debugpy>=1.6.5 in c:\\users\\laurensapp\\appdata\\roaming\\python\\python313\\site-packages (from ipykernel) (1.8.16)\n",
      "Requirement already satisfied: ipython>=7.23.1 in c:\\users\\laurensapp\\appdata\\roaming\\python\\python313\\site-packages (from ipykernel) (9.5.0)\n",
      "Requirement already satisfied: jupyter-client>=8.0.0 in c:\\users\\laurensapp\\appdata\\roaming\\python\\python313\\site-packages (from ipykernel) (8.6.3)\n",
      "Requirement already satisfied: jupyter-core!=5.0.*,>=4.12 in c:\\users\\laurensapp\\appdata\\roaming\\python\\python313\\site-packages (from ipykernel) (5.8.1)\n",
      "Requirement already satisfied: matplotlib-inline>=0.1 in c:\\users\\laurensapp\\appdata\\roaming\\python\\python313\\site-packages (from ipykernel) (0.1.7)\n",
      "Requirement already satisfied: nest-asyncio>=1.4 in c:\\users\\laurensapp\\appdata\\roaming\\python\\python313\\site-packages (from ipykernel) (1.6.0)\n",
      "Requirement already satisfied: packaging>=22 in c:\\users\\laurensapp\\appdata\\roaming\\python\\python313\\site-packages (from ipykernel) (25.0)\n",
      "Requirement already satisfied: psutil>=5.7 in c:\\users\\laurensapp\\appdata\\roaming\\python\\python313\\site-packages (from ipykernel) (7.0.0)\n",
      "Requirement already satisfied: pyzmq>=25 in c:\\users\\laurensapp\\appdata\\roaming\\python\\python313\\site-packages (from ipykernel) (27.0.2)\n",
      "Requirement already satisfied: tornado>=6.2 in c:\\users\\laurensapp\\appdata\\roaming\\python\\python313\\site-packages (from ipykernel) (6.5.2)\n",
      "Requirement already satisfied: traitlets>=5.4.0 in c:\\users\\laurensapp\\appdata\\roaming\\python\\python313\\site-packages (from ipykernel) (5.14.3)\n",
      "Requirement already satisfied: colorama in c:\\users\\laurensapp\\appdata\\roaming\\python\\python313\\site-packages (from ipython>=7.23.1->ipykernel) (0.4.6)\n",
      "Requirement already satisfied: decorator in c:\\users\\laurensapp\\appdata\\roaming\\python\\python313\\site-packages (from ipython>=7.23.1->ipykernel) (5.2.1)\n",
      "Requirement already satisfied: ipython-pygments-lexers in c:\\users\\laurensapp\\appdata\\roaming\\python\\python313\\site-packages (from ipython>=7.23.1->ipykernel) (1.1.1)\n",
      "Requirement already satisfied: jedi>=0.16 in c:\\users\\laurensapp\\appdata\\roaming\\python\\python313\\site-packages (from ipython>=7.23.1->ipykernel) (0.19.2)\n",
      "Requirement already satisfied: prompt_toolkit<3.1.0,>=3.0.41 in c:\\users\\laurensapp\\appdata\\roaming\\python\\python313\\site-packages (from ipython>=7.23.1->ipykernel) (3.0.52)\n",
      "Requirement already satisfied: pygments>=2.4.0 in c:\\users\\laurensapp\\appdata\\roaming\\python\\python313\\site-packages (from ipython>=7.23.1->ipykernel) (2.19.2)\n",
      "Requirement already satisfied: stack_data in c:\\users\\laurensapp\\appdata\\roaming\\python\\python313\\site-packages (from ipython>=7.23.1->ipykernel) (0.6.3)\n",
      "Requirement already satisfied: wcwidth in c:\\users\\laurensapp\\appdata\\roaming\\python\\python313\\site-packages (from prompt_toolkit<3.1.0,>=3.0.41->ipython>=7.23.1->ipykernel) (0.2.13)\n",
      "Requirement already satisfied: parso<0.9.0,>=0.8.4 in c:\\users\\laurensapp\\appdata\\roaming\\python\\python313\\site-packages (from jedi>=0.16->ipython>=7.23.1->ipykernel) (0.8.5)\n",
      "Requirement already satisfied: python-dateutil>=2.8.2 in c:\\users\\laurensapp\\appdata\\roaming\\python\\python313\\site-packages (from jupyter-client>=8.0.0->ipykernel) (2.9.0.post0)\n",
      "Requirement already satisfied: platformdirs>=2.5 in c:\\users\\laurensapp\\appdata\\roaming\\python\\python313\\site-packages (from jupyter-core!=5.0.*,>=4.12->ipykernel) (4.4.0)\n",
      "Requirement already satisfied: pywin32>=300 in c:\\users\\laurensapp\\appdata\\roaming\\python\\python313\\site-packages (from jupyter-core!=5.0.*,>=4.12->ipykernel) (311)\n",
      "Requirement already satisfied: six>=1.5 in c:\\users\\laurensapp\\appdata\\roaming\\python\\python313\\site-packages (from python-dateutil>=2.8.2->jupyter-client>=8.0.0->ipykernel) (1.17.0)\n",
      "Requirement already satisfied: executing>=1.2.0 in c:\\users\\laurensapp\\appdata\\roaming\\python\\python313\\site-packages (from stack_data->ipython>=7.23.1->ipykernel) (2.2.1)\n",
      "Requirement already satisfied: asttokens>=2.1.0 in c:\\users\\laurensapp\\appdata\\roaming\\python\\python313\\site-packages (from stack_data->ipython>=7.23.1->ipykernel) (3.0.0)\n",
      "Requirement already satisfied: pure-eval in c:\\users\\laurensapp\\appdata\\roaming\\python\\python313\\site-packages (from stack_data->ipython>=7.23.1->ipykernel) (0.2.3)\n"
     ]
    }
   ],
   "source": [
    "!pip install ipykernel\n"
   ]
  },
  {
   "cell_type": "code",
   "execution_count": 59,
   "id": "a73f9834",
   "metadata": {},
   "outputs": [
    {
     "name": "stdout",
     "output_type": "stream",
     "text": [
      "Requirement already satisfied: pandas in c:\\users\\laurensapp\\appdata\\local\\programs\\python\\python313\\lib\\site-packages (2.3.2)\n",
      "Requirement already satisfied: numpy>=1.26.0 in c:\\users\\laurensapp\\appdata\\local\\programs\\python\\python313\\lib\\site-packages (from pandas) (2.3.2)\n",
      "Requirement already satisfied: python-dateutil>=2.8.2 in c:\\users\\laurensapp\\appdata\\roaming\\python\\python313\\site-packages (from pandas) (2.9.0.post0)\n",
      "Requirement already satisfied: pytz>=2020.1 in c:\\users\\laurensapp\\appdata\\local\\programs\\python\\python313\\lib\\site-packages (from pandas) (2025.2)\n",
      "Requirement already satisfied: tzdata>=2022.7 in c:\\users\\laurensapp\\appdata\\local\\programs\\python\\python313\\lib\\site-packages (from pandas) (2025.2)\n",
      "Requirement already satisfied: six>=1.5 in c:\\users\\laurensapp\\appdata\\roaming\\python\\python313\\site-packages (from python-dateutil>=2.8.2->pandas) (1.17.0)\n"
     ]
    }
   ],
   "source": [
    "!pip install pandas"
   ]
  },
  {
   "cell_type": "code",
   "execution_count": 60,
   "id": "0c8a36ed",
   "metadata": {},
   "outputs": [
    {
     "name": "stdout",
     "output_type": "stream",
     "text": [
      "Requirement already satisfied: requests in c:\\users\\laurensapp\\appdata\\local\\programs\\python\\python313\\lib\\site-packages (2.32.5)\n",
      "Requirement already satisfied: charset_normalizer<4,>=2 in c:\\users\\laurensapp\\appdata\\local\\programs\\python\\python313\\lib\\site-packages (from requests) (3.4.3)\n",
      "Requirement already satisfied: idna<4,>=2.5 in c:\\users\\laurensapp\\appdata\\local\\programs\\python\\python313\\lib\\site-packages (from requests) (3.10)\n",
      "Requirement already satisfied: urllib3<3,>=1.21.1 in c:\\users\\laurensapp\\appdata\\local\\programs\\python\\python313\\lib\\site-packages (from requests) (2.5.0)\n",
      "Requirement already satisfied: certifi>=2017.4.17 in c:\\users\\laurensapp\\appdata\\local\\programs\\python\\python313\\lib\\site-packages (from requests) (2025.8.3)\n"
     ]
    }
   ],
   "source": [
    "!pip install requests"
   ]
  },
  {
   "cell_type": "code",
   "execution_count": null,
   "id": "6f9d2498",
   "metadata": {},
   "outputs": [],
   "source": [
    "baseurl= \"http://api.weatherapi.com/v1\"\n",
    "lauren_key = \"DO NOT ADD ON FINAL PROJECT\""
   ]
  },
  {
   "cell_type": "code",
   "execution_count": 62,
   "id": "7681c128",
   "metadata": {},
   "outputs": [],
   "source": [
    "# http://api.weatherapi.com/v1/current.json?key=<YOUR_API_KEY>&q=London"
   ]
  },
  {
   "cell_type": "code",
   "execution_count": 63,
   "id": "1fcf5cb7",
   "metadata": {},
   "outputs": [],
   "source": [
    "import requests\n",
    "import pandas as pd"
   ]
  },
  {
   "cell_type": "code",
   "execution_count": 64,
   "id": "4b32aff5",
   "metadata": {},
   "outputs": [],
   "source": [
    "city = \"Louisville\"\n",
    "baseurl = f\"http://api.weatherapi.com/v1/current.json?key={lauren_key}&q={city}\"\n",
    "response = requests.get(baseurl)\n"
   ]
  },
  {
   "cell_type": "code",
   "execution_count": 65,
   "id": "0f70f34e",
   "metadata": {},
   "outputs": [
    {
     "data": {
      "text/plain": [
       "200"
      ]
     },
     "execution_count": 65,
     "metadata": {},
     "output_type": "execute_result"
    }
   ],
   "source": [
    "response.status_code"
   ]
  },
  {
   "cell_type": "code",
   "execution_count": 66,
   "id": "362a50ee",
   "metadata": {},
   "outputs": [
    {
     "data": {
      "text/plain": [
       "{'location': {'name': 'Louisville',\n",
       "  'region': 'Kentucky',\n",
       "  'country': 'United States of America',\n",
       "  'lat': 38.2542,\n",
       "  'lon': -85.7594,\n",
       "  'tz_id': 'America/Kentucky/Louisville',\n",
       "  'localtime_epoch': 1758490005,\n",
       "  'localtime': '2025-09-21 17:26'},\n",
       " 'current': {'last_updated_epoch': 1758489300,\n",
       "  'last_updated': '2025-09-21 17:15',\n",
       "  'temp_c': 27.2,\n",
       "  'temp_f': 81.0,\n",
       "  'is_day': 1,\n",
       "  'condition': {'text': 'Partly cloudy',\n",
       "   'icon': '//cdn.weatherapi.com/weather/64x64/day/116.png',\n",
       "   'code': 1003},\n",
       "  'wind_mph': 5.6,\n",
       "  'wind_kph': 9.0,\n",
       "  'wind_degree': 192,\n",
       "  'wind_dir': 'SSW',\n",
       "  'pressure_mb': 1015.0,\n",
       "  'pressure_in': 29.97,\n",
       "  'precip_mm': 0.0,\n",
       "  'precip_in': 0.0,\n",
       "  'humidity': 61,\n",
       "  'cloud': 50,\n",
       "  'feelslike_c': 28.0,\n",
       "  'feelslike_f': 82.4,\n",
       "  'windchill_c': 29.9,\n",
       "  'windchill_f': 85.8,\n",
       "  'heatindex_c': 31.9,\n",
       "  'heatindex_f': 89.4,\n",
       "  'dewpoint_c': 18.8,\n",
       "  'dewpoint_f': 65.9,\n",
       "  'vis_km': 16.0,\n",
       "  'vis_miles': 9.0,\n",
       "  'uv': 1.8,\n",
       "  'gust_mph': 8.7,\n",
       "  'gust_kph': 14.1,\n",
       "  'short_rad': 275.72,\n",
       "  'diff_rad': 124.82,\n",
       "  'dni': 0.0,\n",
       "  'gti': 117.34}}"
      ]
     },
     "execution_count": 66,
     "metadata": {},
     "output_type": "execute_result"
    }
   ],
   "source": [
    "data = response.json()\n",
    "data"
   ]
  },
  {
   "cell_type": "code",
   "execution_count": 67,
   "id": "77d183b5",
   "metadata": {},
   "outputs": [],
   "source": [
    "current = data['current']\n",
    "location = data['location']\n",
    "temp_f = current['temp_f']\n",
    "wind_mph = current['wind_mph']\n",
    "humidity = current['humidity']"
   ]
  },
  {
   "cell_type": "code",
   "execution_count": 68,
   "id": "c2c860f0",
   "metadata": {},
   "outputs": [
    {
     "data": {
      "text/plain": [
       "(81.0, 5.6)"
      ]
     },
     "execution_count": 68,
     "metadata": {},
     "output_type": "execute_result"
    }
   ],
   "source": [
    "temp_f, wind_mph"
   ]
  },
  {
   "cell_type": "code",
   "execution_count": 69,
   "id": "4b4c337a",
   "metadata": {},
   "outputs": [],
   "source": [
    "def get_weather(city):\n",
    "    url = f\"http://api.weatherapi.com/v1/current.json?key={lauren_key}&q={city}\"\n",
    "    response = requests.get(url)\n",
    "    if response.status_code == 200:\n",
    "        data = response.json()\n",
    "        current = data['current']\n",
    "        location = data['location']\n",
    "        temp_f = current['temp_f']\n",
    "        wind_mph = current['wind_mph']\n",
    "        humidity = current['humidity']\n",
    "\n",
    "        print(f\"Weather for {location['name']}\", {location['region']})\n",
    "        print(f\"Tempature: {current['temp_f']} °F / {current['temp_c']} °C\")\n",
    "        print(f\"Condition: {current['condition']['text']}\")\n",
    "        print(f\"Humidity: {current['humidity']}%\")\n",
    "        print(f\"Wind Speed: {current['wind_mph']} mph\")\n",
    "\n",
    "    else: \n",
    "        print(f\"Error finding data for {city}: {response.status_code}\")\n",
    "\n",
    "\n"
   ]
  },
  {
   "cell_type": "code",
   "execution_count": 70,
   "id": "6c7de893",
   "metadata": {},
   "outputs": [
    {
     "name": "stdout",
     "output_type": "stream",
     "text": [
      "Weather for Lexington-Fayette {'Kentucky'}\n",
      "Tempature: 82.0 °F / 27.8 °C\n",
      "Condition: Sunny\n",
      "Humidity: 49%\n",
      "Wind Speed: 15.4 mph\n"
     ]
    }
   ],
   "source": [
    "get_weather(\"Lexington\")"
   ]
  },
  {
   "cell_type": "code",
   "execution_count": 71,
   "id": "857e8890",
   "metadata": {},
   "outputs": [
    {
     "name": "stdout",
     "output_type": "stream",
     "text": [
      "Weather for Huntington {'West Virginia'}\n",
      "Tempature: 89.1 °F / 31.7 °C\n",
      "Condition: Sunny\n",
      "Humidity: 39%\n",
      "Wind Speed: 4.0 mph\n"
     ]
    }
   ],
   "source": [
    "get_weather(\"Huntington, WV\")"
   ]
  },
  {
   "cell_type": "code",
   "execution_count": 72,
   "id": "91d607ec",
   "metadata": {},
   "outputs": [],
   "source": [
    "cities = [\"New York City\", \"Chicago\", \"Denver\", \"Los Angeles\", \"Honolulu\"]\n",
    "weather_data = []\n",
    "\n",
    "for city in cities:\n",
    "    url = f\"http://api.weatherapi.com/v1/current.json?key={lauren_key}&q={city}\"\n",
    "    response = requests.get(url)\n",
    "\n",
    "    if response.status_code == 200:\n",
    "        data = response.json()\n",
    "        weather_data.append({\n",
    "            \"City\": data['location']['name'], \n",
    "            \"Tempature\": data['current']['temp_f'], \n",
    "            \"Condition\": data['current']['condition']['text'], \n",
    "            \"Humidity\": data['current']['humidity'],\n",
    "            \"Wind Speed\": data['current']['wind_mph']\n",
    "        }) \n",
    "    else: \n",
    "        print(f\"Error fetching data.\")"
   ]
  },
  {
   "cell_type": "code",
   "execution_count": 73,
   "id": "1eb29d87",
   "metadata": {},
   "outputs": [
    {
     "data": {
      "text/plain": [
       "[{'City': 'New York',\n",
       "  'Tempature': 69.1,\n",
       "  'Condition': 'Sunny',\n",
       "  'Humidity': 47,\n",
       "  'Wind Speed': 9.8},\n",
       " {'City': 'Chicago',\n",
       "  'Tempature': 82.9,\n",
       "  'Condition': 'Partly cloudy',\n",
       "  'Humidity': 53,\n",
       "  'Wind Speed': 7.4},\n",
       " {'City': 'Denver',\n",
       "  'Tempature': 78.4,\n",
       "  'Condition': 'Partly cloudy',\n",
       "  'Humidity': 23,\n",
       "  'Wind Speed': 4.7},\n",
       " {'City': 'Los Angeles',\n",
       "  'Tempature': 82.4,\n",
       "  'Condition': 'Sunny',\n",
       "  'Humidity': 45,\n",
       "  'Wind Speed': 6.7},\n",
       " {'City': 'Honolulu',\n",
       "  'Tempature': 84.7,\n",
       "  'Condition': 'Partly cloudy',\n",
       "  'Humidity': 55,\n",
       "  'Wind Speed': 19.0}]"
      ]
     },
     "execution_count": 73,
     "metadata": {},
     "output_type": "execute_result"
    }
   ],
   "source": [
    "weather_data"
   ]
  },
  {
   "cell_type": "code",
   "execution_count": 74,
   "id": "996c4b3c",
   "metadata": {},
   "outputs": [],
   "source": [
    "weather_df = pd.DataFrame(weather_data)"
   ]
  },
  {
   "cell_type": "code",
   "execution_count": 75,
   "id": "1d76a1ad",
   "metadata": {},
   "outputs": [
    {
     "data": {
      "text/html": [
       "<div>\n",
       "<style scoped>\n",
       "    .dataframe tbody tr th:only-of-type {\n",
       "        vertical-align: middle;\n",
       "    }\n",
       "\n",
       "    .dataframe tbody tr th {\n",
       "        vertical-align: top;\n",
       "    }\n",
       "\n",
       "    .dataframe thead th {\n",
       "        text-align: right;\n",
       "    }\n",
       "</style>\n",
       "<table border=\"1\" class=\"dataframe\">\n",
       "  <thead>\n",
       "    <tr style=\"text-align: right;\">\n",
       "      <th></th>\n",
       "      <th>City</th>\n",
       "      <th>Tempature</th>\n",
       "      <th>Condition</th>\n",
       "      <th>Humidity</th>\n",
       "      <th>Wind Speed</th>\n",
       "    </tr>\n",
       "  </thead>\n",
       "  <tbody>\n",
       "    <tr>\n",
       "      <th>0</th>\n",
       "      <td>New York</td>\n",
       "      <td>69.1</td>\n",
       "      <td>Sunny</td>\n",
       "      <td>47</td>\n",
       "      <td>9.8</td>\n",
       "    </tr>\n",
       "    <tr>\n",
       "      <th>1</th>\n",
       "      <td>Chicago</td>\n",
       "      <td>82.9</td>\n",
       "      <td>Partly cloudy</td>\n",
       "      <td>53</td>\n",
       "      <td>7.4</td>\n",
       "    </tr>\n",
       "    <tr>\n",
       "      <th>2</th>\n",
       "      <td>Denver</td>\n",
       "      <td>78.4</td>\n",
       "      <td>Partly cloudy</td>\n",
       "      <td>23</td>\n",
       "      <td>4.7</td>\n",
       "    </tr>\n",
       "    <tr>\n",
       "      <th>3</th>\n",
       "      <td>Los Angeles</td>\n",
       "      <td>82.4</td>\n",
       "      <td>Sunny</td>\n",
       "      <td>45</td>\n",
       "      <td>6.7</td>\n",
       "    </tr>\n",
       "    <tr>\n",
       "      <th>4</th>\n",
       "      <td>Honolulu</td>\n",
       "      <td>84.7</td>\n",
       "      <td>Partly cloudy</td>\n",
       "      <td>55</td>\n",
       "      <td>19.0</td>\n",
       "    </tr>\n",
       "  </tbody>\n",
       "</table>\n",
       "</div>"
      ],
      "text/plain": [
       "          City  Tempature      Condition  Humidity  Wind Speed\n",
       "0     New York       69.1          Sunny        47         9.8\n",
       "1      Chicago       82.9  Partly cloudy        53         7.4\n",
       "2       Denver       78.4  Partly cloudy        23         4.7\n",
       "3  Los Angeles       82.4          Sunny        45         6.7\n",
       "4     Honolulu       84.7  Partly cloudy        55        19.0"
      ]
     },
     "execution_count": 75,
     "metadata": {},
     "output_type": "execute_result"
    }
   ],
   "source": [
    "weather_df.head()"
   ]
  },
  {
   "cell_type": "code",
   "execution_count": 76,
   "id": "6b057ab3",
   "metadata": {},
   "outputs": [],
   "source": [
    "weather_df.to_csv(\"sample_weather_data.csv\", index=False)"
   ]
  },
  {
   "cell_type": "code",
   "execution_count": null,
   "id": "3d98bbcb",
   "metadata": {},
   "outputs": [],
   "source": []
  }
 ],
 "metadata": {
  "kernelspec": {
   "display_name": "Python 3",
   "language": "python",
   "name": "python3"
  },
  "language_info": {
   "codemirror_mode": {
    "name": "ipython",
    "version": 3
   },
   "file_extension": ".py",
   "mimetype": "text/x-python",
   "name": "python",
   "nbconvert_exporter": "python",
   "pygments_lexer": "ipython3",
   "version": "3.13.7"
  }
 },
 "nbformat": 4,
 "nbformat_minor": 5
}
