{
 "cells": [
  {
   "cell_type": "code",
   "execution_count": null,
   "id": "e542f129",
   "metadata": {},
   "outputs": [],
   "source": [
    "!pip install ipykernel\n"
   ]
  },
  {
   "cell_type": "code",
   "execution_count": 42,
   "id": "a73f9834",
   "metadata": {},
   "outputs": [
    {
     "name": "stdout",
     "output_type": "stream",
     "text": [
      "Requirement already satisfied: pandas in c:\\users\\laurensapp\\appdata\\local\\programs\\python\\python313\\lib\\site-packages (2.3.2)\n",
      "Requirement already satisfied: numpy>=1.26.0 in c:\\users\\laurensapp\\appdata\\local\\programs\\python\\python313\\lib\\site-packages (from pandas) (2.3.2)\n",
      "Requirement already satisfied: python-dateutil>=2.8.2 in c:\\users\\laurensapp\\appdata\\roaming\\python\\python313\\site-packages (from pandas) (2.9.0.post0)\n",
      "Requirement already satisfied: pytz>=2020.1 in c:\\users\\laurensapp\\appdata\\local\\programs\\python\\python313\\lib\\site-packages (from pandas) (2025.2)\n",
      "Requirement already satisfied: tzdata>=2022.7 in c:\\users\\laurensapp\\appdata\\local\\programs\\python\\python313\\lib\\site-packages (from pandas) (2025.2)\n",
      "Requirement already satisfied: six>=1.5 in c:\\users\\laurensapp\\appdata\\roaming\\python\\python313\\site-packages (from python-dateutil>=2.8.2->pandas) (1.17.0)\n"
     ]
    }
   ],
   "source": [
    "!pip install pandas"
   ]
  },
  {
   "cell_type": "code",
   "execution_count": null,
   "id": "0c8a36ed",
   "metadata": {},
   "outputs": [],
   "source": [
    "!pip install requests"
   ]
  },
  {
   "cell_type": "code",
   "execution_count": null,
   "id": "6f9d2498",
   "metadata": {},
   "outputs": [],
   "source": [
    "baseurl= \"http://api.weatherapi.com/v1\"\n",
    "lauren_key = \"DO NOT SHARE ON FINAL COPY\""
   ]
  },
  {
   "cell_type": "code",
   "execution_count": 10,
   "id": "7681c128",
   "metadata": {},
   "outputs": [],
   "source": [
    "# http://api.weatherapi.com/v1/current.json?key=<YOUR_API_KEY>&q=London"
   ]
  },
  {
   "cell_type": "code",
   "execution_count": 43,
   "id": "1fcf5cb7",
   "metadata": {},
   "outputs": [],
   "source": [
    "import requests\n",
    "import pandas as pd"
   ]
  },
  {
   "cell_type": "code",
   "execution_count": 19,
   "id": "4b32aff5",
   "metadata": {},
   "outputs": [],
   "source": [
    "city = \"Louisville\"\n",
    "baseurl = f\"http://api.weatherapi.com/v1/current.json?key={lauren_key}&q={city}\"\n",
    "response = requests.get(baseurl)\n"
   ]
  },
  {
   "cell_type": "code",
   "execution_count": 20,
   "id": "0f70f34e",
   "metadata": {},
   "outputs": [
    {
     "data": {
      "text/plain": [
       "200"
      ]
     },
     "execution_count": 20,
     "metadata": {},
     "output_type": "execute_result"
    }
   ],
   "source": [
    "response.status_code"
   ]
  },
  {
   "cell_type": "code",
   "execution_count": 21,
   "id": "362a50ee",
   "metadata": {},
   "outputs": [
    {
     "data": {
      "text/plain": [
       "{'location': {'name': 'Louisville',\n",
       "  'region': 'Kentucky',\n",
       "  'country': 'United States of America',\n",
       "  'lat': 38.2542,\n",
       "  'lon': -85.7594,\n",
       "  'tz_id': 'America/Kentucky/Louisville',\n",
       "  'localtime_epoch': 1758476282,\n",
       "  'localtime': '2025-09-21 13:38'},\n",
       " 'current': {'last_updated_epoch': 1758475800,\n",
       "  'last_updated': '2025-09-21 13:30',\n",
       "  'temp_c': 21.1,\n",
       "  'temp_f': 70.0,\n",
       "  'is_day': 1,\n",
       "  'condition': {'text': 'Light rain',\n",
       "   'icon': '//cdn.weatherapi.com/weather/64x64/day/296.png',\n",
       "   'code': 1183},\n",
       "  'wind_mph': 10.3,\n",
       "  'wind_kph': 16.6,\n",
       "  'wind_degree': 215,\n",
       "  'wind_dir': 'SW',\n",
       "  'pressure_mb': 1018.0,\n",
       "  'pressure_in': 30.07,\n",
       "  'precip_mm': 0.0,\n",
       "  'precip_in': 0.0,\n",
       "  'humidity': 93,\n",
       "  'cloud': 100,\n",
       "  'feelslike_c': 21.1,\n",
       "  'feelslike_f': 70.0,\n",
       "  'windchill_c': 28.0,\n",
       "  'windchill_f': 82.4,\n",
       "  'heatindex_c': 30.9,\n",
       "  'heatindex_f': 87.6,\n",
       "  'dewpoint_c': 20.3,\n",
       "  'dewpoint_f': 68.5,\n",
       "  'vis_km': 13.0,\n",
       "  'vis_miles': 8.0,\n",
       "  'uv': 1.2,\n",
       "  'gust_mph': 12.0,\n",
       "  'gust_kph': 19.3,\n",
       "  'short_rad': 384.94,\n",
       "  'diff_rad': 171.65,\n",
       "  'dni': 427.84,\n",
       "  'gti': 227.28}}"
      ]
     },
     "execution_count": 21,
     "metadata": {},
     "output_type": "execute_result"
    }
   ],
   "source": [
    "data = response.json()\n",
    "data"
   ]
  },
  {
   "cell_type": "code",
   "execution_count": 22,
   "id": "77d183b5",
   "metadata": {},
   "outputs": [],
   "source": [
    "current = data['current']\n",
    "location = data['location']\n",
    "temp_f = current['temp_f']\n",
    "wind_mph = current['wind_mph']\n",
    "humidity = current['humidity']"
   ]
  },
  {
   "cell_type": "code",
   "execution_count": 24,
   "id": "c2c860f0",
   "metadata": {},
   "outputs": [
    {
     "data": {
      "text/plain": [
       "(70.0, 10.3)"
      ]
     },
     "execution_count": 24,
     "metadata": {},
     "output_type": "execute_result"
    }
   ],
   "source": [
    "temp_f, wind_mph"
   ]
  },
  {
   "cell_type": "code",
   "execution_count": 29,
   "id": "4b4c337a",
   "metadata": {},
   "outputs": [],
   "source": [
    "def get_weather(city):\n",
    "    url = f\"http://api.weatherapi.com/v1/current.json?key={lauren_key}&q={city}\"\n",
    "    response = requests.get(url)\n",
    "    if response.status_code == 200:\n",
    "        data = response.json()\n",
    "        current = data['current']\n",
    "        location = data['location']\n",
    "        temp_f = current['temp_f']\n",
    "        wind_mph = current['wind_mph']\n",
    "        humidity = current['humidity']\n",
    "\n",
    "        print(f\"Weather for {location['name']}\", {location['region']})\n",
    "        print(f\"Tempature: {current['temp_f']} °F / {current['temp_c']} °C\")\n",
    "        print(f\"Condition: {current['condition']['text']}\")\n",
    "        print(f\"Humidity: {current['humidity']}%\")\n",
    "        print(f\"Wind Speed: {current['wind_mph']} mph\")\n",
    "\n",
    "    else: \n",
    "        print(f\"Error finding data for {city}: {response.status_code}\")\n",
    "\n",
    "\n"
   ]
  },
  {
   "cell_type": "code",
   "execution_count": 30,
   "id": "6c7de893",
   "metadata": {},
   "outputs": [
    {
     "name": "stdout",
     "output_type": "stream",
     "text": [
      "Weather for Lexington-Fayette {'Kentucky'}\n",
      "Tempature: 79.0 °F / 26.1 °C\n",
      "Condition: Sunny\n",
      "Humidity: 56%\n",
      "Wind Speed: 13.0 mph\n"
     ]
    }
   ],
   "source": [
    "get_weather(\"Lexington\")"
   ]
  },
  {
   "cell_type": "code",
   "execution_count": 32,
   "id": "857e8890",
   "metadata": {},
   "outputs": [
    {
     "name": "stdout",
     "output_type": "stream",
     "text": [
      "Weather for Huntington {'West Virginia'}\n",
      "Tempature: 84.9 °F / 29.4 °C\n",
      "Condition: Sunny\n",
      "Humidity: 45%\n",
      "Wind Speed: 7.8 mph\n"
     ]
    }
   ],
   "source": [
    "get_weather(\"Huntington, WV\")"
   ]
  },
  {
   "cell_type": "code",
   "execution_count": 39,
   "id": "91d607ec",
   "metadata": {},
   "outputs": [],
   "source": [
    "cities = [\"New York City\", \"Chicago\", \"Denver\", \"Los Angeles\", \"Honolulu\"]\n",
    "weather_data = []\n",
    "\n",
    "for city in cities:\n",
    "    url = f\"http://api.weatherapi.com/v1/current.json?key={lauren_key}&q={city}\"\n",
    "    response = requests.get(url)\n",
    "\n",
    "    if response.status_code == 200:\n",
    "        data = response.json()\n",
    "        weather_data.append({\n",
    "            \"City\": data['location']['name'], \n",
    "            \"Tempature\": data['current']['temp_f'], \n",
    "            \"Condition\": data['current']['condition'], \n",
    "            \"Humidity\": data['current']['humidity'],\n",
    "            \"Wind Speed\": data['current']['wind_mph']\n",
    "        }) \n",
    "    else: \n",
    "        print(f\"Error fetching data.\")"
   ]
  },
  {
   "cell_type": "code",
   "execution_count": 40,
   "id": "1eb29d87",
   "metadata": {},
   "outputs": [
    {
     "data": {
      "text/plain": [
       "[{'City': 'New York',\n",
       "  'Tempature': 70.0,\n",
       "  'Condition': {'text': 'Sunny',\n",
       "   'icon': '//cdn.weatherapi.com/weather/64x64/day/113.png',\n",
       "   'code': 1000},\n",
       "  'Humidity': 47,\n",
       "  'Wind Speed': 10.7},\n",
       " {'City': 'Chicago',\n",
       "  'Tempature': 78.1,\n",
       "  'Condition': {'text': 'Partly cloudy',\n",
       "   'icon': '//cdn.weatherapi.com/weather/64x64/day/116.png',\n",
       "   'code': 1003},\n",
       "  'Humidity': 62,\n",
       "  'Wind Speed': 7.8},\n",
       " {'City': 'Denver',\n",
       "  'Tempature': 74.3,\n",
       "  'Condition': {'text': 'Partly cloudy',\n",
       "   'icon': '//cdn.weatherapi.com/weather/64x64/day/116.png',\n",
       "   'code': 1003},\n",
       "  'Humidity': 23,\n",
       "  'Wind Speed': 2.9},\n",
       " {'City': 'Los Angeles',\n",
       "  'Tempature': 70.0,\n",
       "  'Condition': {'text': 'Mist',\n",
       "   'icon': '//cdn.weatherapi.com/weather/64x64/day/143.png',\n",
       "   'code': 1030},\n",
       "  'Humidity': 78,\n",
       "  'Wind Speed': 4.0},\n",
       " {'City': 'Honolulu',\n",
       "  'Tempature': 79.3,\n",
       "  'Condition': {'text': 'Partly cloudy',\n",
       "   'icon': '//cdn.weatherapi.com/weather/64x64/day/116.png',\n",
       "   'code': 1003},\n",
       "  'Humidity': 70,\n",
       "  'Wind Speed': 18.1}]"
      ]
     },
     "execution_count": 40,
     "metadata": {},
     "output_type": "execute_result"
    }
   ],
   "source": [
    "weather_data"
   ]
  },
  {
   "cell_type": "code",
   "execution_count": 45,
   "id": "996c4b3c",
   "metadata": {},
   "outputs": [],
   "source": [
    "weather_df = pd.DataFrame(weather_data)"
   ]
  },
  {
   "cell_type": "code",
   "execution_count": 46,
   "id": "1d76a1ad",
   "metadata": {},
   "outputs": [
    {
     "data": {
      "text/html": [
       "<div>\n",
       "<style scoped>\n",
       "    .dataframe tbody tr th:only-of-type {\n",
       "        vertical-align: middle;\n",
       "    }\n",
       "\n",
       "    .dataframe tbody tr th {\n",
       "        vertical-align: top;\n",
       "    }\n",
       "\n",
       "    .dataframe thead th {\n",
       "        text-align: right;\n",
       "    }\n",
       "</style>\n",
       "<table border=\"1\" class=\"dataframe\">\n",
       "  <thead>\n",
       "    <tr style=\"text-align: right;\">\n",
       "      <th></th>\n",
       "      <th>City</th>\n",
       "      <th>Tempature</th>\n",
       "      <th>Condition</th>\n",
       "      <th>Humidity</th>\n",
       "      <th>Wind Speed</th>\n",
       "    </tr>\n",
       "  </thead>\n",
       "  <tbody>\n",
       "    <tr>\n",
       "      <th>0</th>\n",
       "      <td>New York</td>\n",
       "      <td>70.0</td>\n",
       "      <td>{'text': 'Sunny', 'icon': '//cdn.weatherapi.co...</td>\n",
       "      <td>47</td>\n",
       "      <td>10.7</td>\n",
       "    </tr>\n",
       "    <tr>\n",
       "      <th>1</th>\n",
       "      <td>Chicago</td>\n",
       "      <td>78.1</td>\n",
       "      <td>{'text': 'Partly cloudy', 'icon': '//cdn.weath...</td>\n",
       "      <td>62</td>\n",
       "      <td>7.8</td>\n",
       "    </tr>\n",
       "    <tr>\n",
       "      <th>2</th>\n",
       "      <td>Denver</td>\n",
       "      <td>74.3</td>\n",
       "      <td>{'text': 'Partly cloudy', 'icon': '//cdn.weath...</td>\n",
       "      <td>23</td>\n",
       "      <td>2.9</td>\n",
       "    </tr>\n",
       "    <tr>\n",
       "      <th>3</th>\n",
       "      <td>Los Angeles</td>\n",
       "      <td>70.0</td>\n",
       "      <td>{'text': 'Mist', 'icon': '//cdn.weatherapi.com...</td>\n",
       "      <td>78</td>\n",
       "      <td>4.0</td>\n",
       "    </tr>\n",
       "    <tr>\n",
       "      <th>4</th>\n",
       "      <td>Honolulu</td>\n",
       "      <td>79.3</td>\n",
       "      <td>{'text': 'Partly cloudy', 'icon': '//cdn.weath...</td>\n",
       "      <td>70</td>\n",
       "      <td>18.1</td>\n",
       "    </tr>\n",
       "  </tbody>\n",
       "</table>\n",
       "</div>"
      ],
      "text/plain": [
       "          City  Tempature                                          Condition  \\\n",
       "0     New York       70.0  {'text': 'Sunny', 'icon': '//cdn.weatherapi.co...   \n",
       "1      Chicago       78.1  {'text': 'Partly cloudy', 'icon': '//cdn.weath...   \n",
       "2       Denver       74.3  {'text': 'Partly cloudy', 'icon': '//cdn.weath...   \n",
       "3  Los Angeles       70.0  {'text': 'Mist', 'icon': '//cdn.weatherapi.com...   \n",
       "4     Honolulu       79.3  {'text': 'Partly cloudy', 'icon': '//cdn.weath...   \n",
       "\n",
       "   Humidity  Wind Speed  \n",
       "0        47        10.7  \n",
       "1        62         7.8  \n",
       "2        23         2.9  \n",
       "3        78         4.0  \n",
       "4        70        18.1  "
      ]
     },
     "execution_count": 46,
     "metadata": {},
     "output_type": "execute_result"
    }
   ],
   "source": [
    "weather_df.head()"
   ]
  },
  {
   "cell_type": "code",
   "execution_count": 47,
   "id": "6b057ab3",
   "metadata": {},
   "outputs": [],
   "source": [
    "weather_df.to_csv(\"sample_weather_data.csv\", index=False)"
   ]
  },
  {
   "cell_type": "code",
   "execution_count": null,
   "id": "3d98bbcb",
   "metadata": {},
   "outputs": [],
   "source": []
  }
 ],
 "metadata": {
  "kernelspec": {
   "display_name": "Python 3",
   "language": "python",
   "name": "python3"
  },
  "language_info": {
   "codemirror_mode": {
    "name": "ipython",
    "version": 3
   },
   "file_extension": ".py",
   "mimetype": "text/x-python",
   "name": "python",
   "nbconvert_exporter": "python",
   "pygments_lexer": "ipython3",
   "version": "3.13.7"
  }
 },
 "nbformat": 4,
 "nbformat_minor": 5
}
