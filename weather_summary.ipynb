{
 "cells": [
  {
   "cell_type": "code",
   "execution_count": 29,
   "id": "cf96377b",
   "metadata": {},
   "outputs": [],
   "source": [
    "import requests\n",
    "import pandas as pd\n",
    "from datetime import datetime"
   ]
  },
  {
   "cell_type": "code",
   "execution_count": null,
   "id": "00042e7d",
   "metadata": {},
   "outputs": [],
   "source": [
    "api_key = \"DO NOT SHARE ON FILE\"\n",
    "baseurl = \"http://api.weatherapi.com/v1\"\n",
    "city = \"Pittsburgh\""
   ]
  },
  {
   "cell_type": "code",
   "execution_count": 31,
   "id": "73371eb8",
   "metadata": {},
   "outputs": [
    {
     "data": {
      "text/plain": [
       "200"
      ]
     },
     "execution_count": 31,
     "metadata": {},
     "output_type": "execute_result"
    }
   ],
   "source": [
    "today = pd.Timestamp.now().strftime(\"%Y-%m-%d\")\n",
    "astronomy_url = f\"{baseurl}/astronomy.json?key={api_key}&q={city}&dt={today}\"\n",
    "astro_response = requests.get(astronomy_url)\n",
    "astro_response.status_code"
   ]
  },
  {
   "cell_type": "code",
   "execution_count": 32,
   "id": "c8a8db23",
   "metadata": {},
   "outputs": [
    {
     "data": {
      "text/plain": [
       "200"
      ]
     },
     "execution_count": 32,
     "metadata": {},
     "output_type": "execute_result"
    }
   ],
   "source": [
    "forecast_url = f\"{baseurl}/forecast.json?key={api_key}&q={city}&days=3\"\n",
    "forecast_response = requests.get(forecast_url)\n",
    "forecast_response.status_code"
   ]
  },
  {
   "cell_type": "code",
   "execution_count": null,
   "id": "f4436ebb",
   "metadata": {},
   "outputs": [
    {
     "data": {
      "text/plain": [
       "200"
      ]
     },
     "execution_count": 33,
     "metadata": {},
     "output_type": "execute_result"
    }
   ],
   "source": [
    "current_url = f\"{baseurl}/current.json?key={api_key}&q={city}&dt={today}\"\n",
    "current_response = requests.get(forecast_url)\n",
    "current_response.status_code"
   ]
  },
  {
   "cell_type": "code",
   "execution_count": 44,
   "id": "566b2e9f",
   "metadata": {},
   "outputs": [],
   "source": [
    "def get_city_data(city):\n",
    "    url_current = f\"{baseurl}/current.json?key={api_key}&q={city}\"\n",
    "    url_astronomy = f\"{baseurl}/astronomy.json?key={api_key}&q={city}&dt={today}\"\n",
    "    url_forecast = f\"{baseurl}/forecast.json?key={api_key}&q={city}&days=3\"\n",
    "\n",
    "   #Current Weather Build\n",
    "    current_response = requests.get(url_current)\n",
    "    if current_response.status_code == 200:\n",
    "        current_data = current_response.json()\n",
    "        current = current_data['current']\n",
    "        location = current_data['location']\n",
    "\n",
    "        print(f\"Weather for {location['name']}, {location['region']}\")\n",
    "        print(f\"Temperature: {current['temp_f']} °F / {current['temp_c']} °C\")\n",
    "        print(f\"Condition: {current['condition']['text']}\")\n",
    "        print(f\"Humidity: {current['humidity']}%\")\n",
    "        print(f\"Wind Speed: {current['wind_mph']} mph\")\n",
    "    else:\n",
    "        print(f\"No current weather data for {city}.\")\n",
    "\n",
    "    # Sunrise and Sunset Data\n",
    "    astro_response = requests.get(url_astronomy)\n",
    "    if astro_response.status_code == 200:\n",
    "        astro_data = astro_response.json()\n",
    "        astronomy = astro_data['astronomy']['astro']\n",
    "        location = astro_data['location']\n",
    "\n",
    "        print(f\"Sunrise & Sunset for {location['name']}, {location['region']}\")\n",
    "        print(f\"Sunrise: {astronomy['sunrise']}\")\n",
    "        print(f\"Sunset: {astronomy['sunset']}\")\n",
    "        print(f\"Moon Phase: {astronomy['moon_phase']}\")\n",
    "    else:\n",
    "        print(f\"No current data for Sunrise and Sunset for {city}.\")\n",
    "\n",
    "    # Forecast- 3 day\n",
    "    forecast_response = requests.get(url_forecast)\n",
    "    if forecast_response.status_code == 200:\n",
    "        forecast_data = forecast_response.json()\n",
    "        forecast_days = forecast_data['forecast']['forecastday']\n",
    "\n",
    "        print(f\"3-Day Forecast for {city}\")\n",
    "        for day in forecast_days:\n",
    "            date_str = day['date']\n",
    "            day_info = day['day']\n",
    "            condition = day_info['condition']['text']\n",
    "            max_temp = day_info['maxtemp_f']\n",
    "            min_temp = day_info['mintemp_f']\n",
    "            chance_of_rain = day_info.get('daily_chance_of_rain', 'N/A')\n",
    "\n",
    "            print(f\"{date_str}\")\n",
    "            print(f\"Condition: {condition}\")\n",
    "            print(f\"Max Temp: {max_temp} °F\")\n",
    "            print(f\"Min Temp: {min_temp} °F\")\n",
    "            print(f\"Chance of Rain: {chance_of_rain}%\")\n",
    "    else:\n",
    "        print(f\"Unable to predict 3 day forecast for {city}.\")\n"
   ]
  },
  {
   "cell_type": "code",
   "execution_count": 45,
   "id": "10a724f8",
   "metadata": {},
   "outputs": [
    {
     "name": "stdout",
     "output_type": "stream",
     "text": [
      "No current weather data for Pitstbu.\n",
      "No current data for Sunrise and Sunset for Pitstbu.\n",
      "Unable to predict 3 day forecast for Pitstbu.\n"
     ]
    }
   ],
   "source": [
    "get_city_data(\"Pitstbu\")"
   ]
  },
  {
   "cell_type": "code",
   "execution_count": 46,
   "id": "11b6edcf",
   "metadata": {},
   "outputs": [
    {
     "name": "stdout",
     "output_type": "stream",
     "text": [
      "Weather for Pittsburgh, Pennsylvania\n",
      "Temperature: 82.0 °F / 27.8 °C\n",
      "Condition: Partly cloudy\n",
      "Humidity: 43%\n",
      "Wind Speed: 8.3 mph\n",
      "Sunrise & Sunset for Pittsburgh, Pennsylvania\n",
      "Sunrise: 07:07 AM\n",
      "Sunset: 07:18 PM\n",
      "Moon Phase: New Moon\n",
      "3-Day Forecast for Pittsburgh\n",
      "2025-09-21\n",
      "Condition: Sunny\n",
      "Max Temp: 86.9 °F\n",
      "Min Temp: 62.6 °F\n",
      "Chance of Rain: 0%\n",
      "2025-09-22\n",
      "Condition: Moderate rain\n",
      "Max Temp: 82.9 °F\n",
      "Min Temp: 66.1 °F\n",
      "Chance of Rain: 60%\n",
      "2025-09-23\n",
      "Condition: Heavy rain\n",
      "Max Temp: 76.6 °F\n",
      "Min Temp: 65.3 °F\n",
      "Chance of Rain: 84%\n"
     ]
    }
   ],
   "source": [
    "get_city_data(\"Pittsburgh\")"
   ]
  },
  {
   "cell_type": "code",
   "execution_count": 71,
   "id": "408698ae",
   "metadata": {},
   "outputs": [],
   "source": [
    "cities = [\"New York City\", \"Chicago\", \"Denver\", \"Los Angeles\", \"Honolulu\"]\n",
    "summary_data = []\n",
    "\n",
    "for city in cities:\n",
    "    url_current = f\"{baseurl}/current.json?key={api_key}&q={city}\"\n",
    "    url_astronomy = f\"{baseurl}/astronomy.json?key={api_key}&q={city}&dt={today}\"\n",
    "   \n",
    "    response_current = requests.get(url_current)\n",
    "    response_astronomy = requests.get(url_astronomy)\n",
    "\n",
    "    if response_current.status_code == 200 and response_astronomy.status_code == 200:\n",
    "        data_current=response_current.json()\n",
    "        summary_data.append({\n",
    "        \"City\": data_current['location']['name'], \n",
    "        \"Tempature\": data_current['current']['temp_f'],\n",
    "        \"Condition\": data_current['current']['condition']['text'],\n",
    "        \"Humidity\": data_current['current']['humidity'],\n",
    "        \"Wind Speed\": data_current['current']['wind_mph'],\n",
    "        \"Sunrise\": astro['sunrise'],\n",
    "        \"Sunset\": astro['sunset'],\n",
    "        \"Moon Phase\": astro['moon_phase']\n",
    "        })\n",
    "\n",
    "\n"
   ]
  },
  {
   "cell_type": "code",
   "execution_count": 72,
   "id": "18bba007",
   "metadata": {},
   "outputs": [],
   "source": [
    "weather_summary_df = pd.DataFrame(summary_data)\n"
   ]
  },
  {
   "cell_type": "code",
   "execution_count": 73,
   "id": "a2d495e6",
   "metadata": {},
   "outputs": [
    {
     "data": {
      "text/html": [
       "<div>\n",
       "<style scoped>\n",
       "    .dataframe tbody tr th:only-of-type {\n",
       "        vertical-align: middle;\n",
       "    }\n",
       "\n",
       "    .dataframe tbody tr th {\n",
       "        vertical-align: top;\n",
       "    }\n",
       "\n",
       "    .dataframe thead th {\n",
       "        text-align: right;\n",
       "    }\n",
       "</style>\n",
       "<table border=\"1\" class=\"dataframe\">\n",
       "  <thead>\n",
       "    <tr style=\"text-align: right;\">\n",
       "      <th></th>\n",
       "      <th>City</th>\n",
       "      <th>Tempature</th>\n",
       "      <th>Condition</th>\n",
       "      <th>Humidity</th>\n",
       "      <th>Wind Speed</th>\n",
       "      <th>Sunrise</th>\n",
       "      <th>Sunset</th>\n",
       "      <th>Moon Phase</th>\n",
       "    </tr>\n",
       "  </thead>\n",
       "  <tbody>\n",
       "    <tr>\n",
       "      <th>0</th>\n",
       "      <td>New York</td>\n",
       "      <td>69.1</td>\n",
       "      <td>Sunny</td>\n",
       "      <td>47</td>\n",
       "      <td>9.8</td>\n",
       "      <td>06:20 AM</td>\n",
       "      <td>06:28 PM</td>\n",
       "      <td>New Moon</td>\n",
       "    </tr>\n",
       "    <tr>\n",
       "      <th>1</th>\n",
       "      <td>Chicago</td>\n",
       "      <td>82.9</td>\n",
       "      <td>Partly cloudy</td>\n",
       "      <td>55</td>\n",
       "      <td>7.4</td>\n",
       "      <td>06:20 AM</td>\n",
       "      <td>06:28 PM</td>\n",
       "      <td>New Moon</td>\n",
       "    </tr>\n",
       "    <tr>\n",
       "      <th>2</th>\n",
       "      <td>Denver</td>\n",
       "      <td>80.4</td>\n",
       "      <td>Partly cloudy</td>\n",
       "      <td>22</td>\n",
       "      <td>4.7</td>\n",
       "      <td>06:20 AM</td>\n",
       "      <td>06:28 PM</td>\n",
       "      <td>New Moon</td>\n",
       "    </tr>\n",
       "    <tr>\n",
       "      <th>3</th>\n",
       "      <td>Los Angeles</td>\n",
       "      <td>73.9</td>\n",
       "      <td>Sunny</td>\n",
       "      <td>71</td>\n",
       "      <td>6.7</td>\n",
       "      <td>06:20 AM</td>\n",
       "      <td>06:28 PM</td>\n",
       "      <td>New Moon</td>\n",
       "    </tr>\n",
       "    <tr>\n",
       "      <th>4</th>\n",
       "      <td>Honolulu</td>\n",
       "      <td>84.7</td>\n",
       "      <td>Partly cloudy</td>\n",
       "      <td>55</td>\n",
       "      <td>19.0</td>\n",
       "      <td>06:20 AM</td>\n",
       "      <td>06:28 PM</td>\n",
       "      <td>New Moon</td>\n",
       "    </tr>\n",
       "  </tbody>\n",
       "</table>\n",
       "</div>"
      ],
      "text/plain": [
       "          City  Tempature      Condition  Humidity  Wind Speed   Sunrise  \\\n",
       "0     New York       69.1          Sunny        47         9.8  06:20 AM   \n",
       "1      Chicago       82.9  Partly cloudy        55         7.4  06:20 AM   \n",
       "2       Denver       80.4  Partly cloudy        22         4.7  06:20 AM   \n",
       "3  Los Angeles       73.9          Sunny        71         6.7  06:20 AM   \n",
       "4     Honolulu       84.7  Partly cloudy        55        19.0  06:20 AM   \n",
       "\n",
       "     Sunset Moon Phase  \n",
       "0  06:28 PM   New Moon  \n",
       "1  06:28 PM   New Moon  \n",
       "2  06:28 PM   New Moon  \n",
       "3  06:28 PM   New Moon  \n",
       "4  06:28 PM   New Moon  "
      ]
     },
     "execution_count": 73,
     "metadata": {},
     "output_type": "execute_result"
    }
   ],
   "source": [
    "weather_summary_df.head()"
   ]
  },
  {
   "cell_type": "code",
   "execution_count": 74,
   "id": "91ad318b",
   "metadata": {},
   "outputs": [],
   "source": [
    "weather_summary_df.to_csv(\"sample_summary_data.csv\", index=False)"
   ]
  },
  {
   "cell_type": "code",
   "execution_count": null,
   "id": "78710c17",
   "metadata": {},
   "outputs": [],
   "source": []
  }
 ],
 "metadata": {
  "kernelspec": {
   "display_name": "Python 3",
   "language": "python",
   "name": "python3"
  },
  "language_info": {
   "codemirror_mode": {
    "name": "ipython",
    "version": 3
   },
   "file_extension": ".py",
   "mimetype": "text/x-python",
   "name": "python",
   "nbconvert_exporter": "python",
   "pygments_lexer": "ipython3",
   "version": "3.13.7"
  }
 },
 "nbformat": 4,
 "nbformat_minor": 5
}
