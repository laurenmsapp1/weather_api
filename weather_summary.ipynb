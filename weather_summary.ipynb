{
 "cells": [
  {
   "cell_type": "code",
   "execution_count": 29,
   "id": "cf96377b",
   "metadata": {},
   "outputs": [],
   "source": [
    "import requests\n",
    "import pandas as pd\n",
    "from datetime import datetime"
   ]
  },
  {
   "cell_type": "code",
   "execution_count": 30,
   "id": "00042e7d",
   "metadata": {},
   "outputs": [],
   "source": [
    "api_key = \"4dccbd562b46448588c171244252109\"\n",
    "baseurl = \"http://api.weatherapi.com/v1\"\n",
    "city = \"Pittsburgh\""
   ]
  },
  {
   "cell_type": "code",
   "execution_count": 31,
   "id": "73371eb8",
   "metadata": {},
   "outputs": [
    {
     "data": {
      "text/plain": [
       "200"
      ]
     },
     "execution_count": 31,
     "metadata": {},
     "output_type": "execute_result"
    }
   ],
   "source": [
    "today = pd.Timestamp.now().strftime(\"%Y-%m-%d\")\n",
    "astronomy_url = f\"{baseurl}/astronomy.json?key={api_key}&q={city}&dt={today}\"\n",
    "astro_response = requests.get(astronomy_url)\n",
    "astro_response.status_code"
   ]
  },
  {
   "cell_type": "code",
   "execution_count": 32,
   "id": "c8a8db23",
   "metadata": {},
   "outputs": [
    {
     "data": {
      "text/plain": [
       "200"
      ]
     },
     "execution_count": 32,
     "metadata": {},
     "output_type": "execute_result"
    }
   ],
   "source": [
    "forecast_url = f\"{baseurl}/forecast.json?key={api_key}&q={city}&days=3\"\n",
    "forecast_response = requests.get(forecast_url)\n",
    "forecast_response.status_code"
   ]
  },
  {
   "cell_type": "code",
   "execution_count": null,
   "id": "f4436ebb",
   "metadata": {},
   "outputs": [
    {
     "data": {
      "text/plain": [
       "200"
      ]
     },
     "execution_count": 33,
     "metadata": {},
     "output_type": "execute_result"
    }
   ],
   "source": [
    "current_url = f\"{baseurl}/current.json?key={api_key}&q={city}&dt={today}\"\n",
    "current_response = requests.get(forecast_url)\n",
    "current_response.status_code"
   ]
  },
  {
   "cell_type": "code",
   "execution_count": 39,
   "id": "566b2e9f",
   "metadata": {},
   "outputs": [],
   "source": [
    "def get_city_data(city):\n",
    "    url_current = f\"{baseurl}/current.json?key={api_key}&q={city}\"\n",
    "    url_astronomy = f\"{baseurl}/astronomy.json?key={api_key}&q={city}&dt={today}\"\n",
    "    url_forecast = f\"{baseurl}/forecast.json?key={api_key}&q={city}&days=3\"\n",
    "\n",
    "   #Current Weather Build\n",
    "    current_response = requests.get(url_current)\n",
    "    if current_response.status_code == 200:\n",
    "        current_data = current_response.json()\n",
    "        current = current_data['current']\n",
    "        location = current_data['location']\n",
    "\n",
    "        print(f\"Weather for {location['name']}, {location['region']}\")\n",
    "        print(f\"Temperature: {current['temp_f']} °F / {current['temp_c']} °C\")\n",
    "        print(f\"Condition: {current['condition']['text']}\")\n",
    "        print(f\"Humidity: {current['humidity']}%\")\n",
    "        print(f\"Wind Speed: {current['wind_mph']} mph\")\n",
    "    else:\n",
    "        print(f\"No current weather data for {city}\")\n",
    "\n",
    "    # Sunrise and Sunset Data\n",
    "    astro_response = requests.get(url_astronomy)\n",
    "    if astro_response.status_code == 200:\n",
    "        astro_data = astro_response.json()\n",
    "        astronomy = astro_data['astronomy']['astro']\n",
    "        location = astro_data['location']\n",
    "\n",
    "        print(f\"Sunrise & Sunset for {location['name']}, {location['region']}\")\n",
    "        print(f\"Sunrise: {astronomy['sunrise']}\")\n",
    "        print(f\"Sunset: {astronomy['sunset']}\")\n",
    "        print(f\"Moon Phase: {astronomy['moon_phase']}\")\n",
    "    else:\n",
    "        print(f\"No current data for Sunrise and Sunset for {city}\")\n",
    "\n",
    "    # Forecast- 3 day\n",
    "    forecast_response = requests.get(url_forecast)\n",
    "    if forecast_response.status_code == 200:\n",
    "        forecast_data = forecast_response.json()\n",
    "        forecast_days = forecast_data['forecast']['forecastday']\n",
    "\n",
    "        print(f\"3-Day Forecast for {city}\")\n",
    "        for day in forecast_days:\n",
    "            date_str = day['date']\n",
    "            day_info = day['day']\n",
    "            condition = day_info['condition']['text']\n",
    "            max_temp = day_info['maxtemp_f']\n",
    "            min_temp = day_info['mintemp_f']\n",
    "            chance_of_rain = day_info.get('daily_chance_of_rain', 'N/A')\n",
    "\n",
    "            print(f\"{date_str}\")\n",
    "            print(f\"Condition: {condition}\")\n",
    "            print(f\"Max Temp: {max_temp} °F\")\n",
    "            print(f\"Min Temp: {min_temp} °F\")\n",
    "            print(f\"Chance of Rain: {chance_of_rain}%\")\n",
    "    else:\n",
    "        print(f\"Could not fetch forecast data for {city}.\")\n"
   ]
  },
  {
   "cell_type": "code",
   "execution_count": 41,
   "id": "10a724f8",
   "metadata": {},
   "outputs": [
    {
     "name": "stdout",
     "output_type": "stream",
     "text": [
      "Weather for Denver, Colorado\n",
      "Temperature: 80.4 °F / 26.9 °C\n",
      "Condition: Partly cloudy\n",
      "Humidity: 22%\n",
      "Wind Speed: 7.6 mph\n",
      "Sunrise & Sunset for Denver, Colorado\n",
      "Sunrise: 06:47 AM\n",
      "Sunset: 06:58 PM\n",
      "Moon Phase: New Moon\n",
      "3-Day Forecast for Denver\n",
      "2025-09-21\n",
      "Condition: Sunny\n",
      "Max Temp: 83.8 °F\n",
      "Min Temp: 55.6 °F\n",
      "Chance of Rain: 0%\n",
      "2025-09-22\n",
      "Condition: Moderate rain\n",
      "Max Temp: 74.5 °F\n",
      "Min Temp: 56.1 °F\n",
      "Chance of Rain: 87%\n",
      "2025-09-23\n",
      "Condition: Patchy rain nearby\n",
      "Max Temp: 60.8 °F\n",
      "Min Temp: 48.9 °F\n",
      "Chance of Rain: 89%\n"
     ]
    }
   ],
   "source": [
    "get_city_data(\"Denver\")"
   ]
  }
 ],
 "metadata": {
  "kernelspec": {
   "display_name": "Python 3",
   "language": "python",
   "name": "python3"
  },
  "language_info": {
   "codemirror_mode": {
    "name": "ipython",
    "version": 3
   },
   "file_extension": ".py",
   "mimetype": "text/x-python",
   "name": "python",
   "nbconvert_exporter": "python",
   "pygments_lexer": "ipython3",
   "version": "3.13.7"
  }
 },
 "nbformat": 4,
 "nbformat_minor": 5
}
