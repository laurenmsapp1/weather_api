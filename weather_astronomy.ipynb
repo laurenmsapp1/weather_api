{
 "cells": [
  {
   "cell_type": "code",
   "execution_count": 70,
   "id": "092765dc",
   "metadata": {},
   "outputs": [],
   "source": [
    "import requests\n",
    "import pandas as pd\n",
    "from datetime import datetime"
   ]
  },
  {
   "cell_type": "code",
   "execution_count": null,
   "id": "30ec0406",
   "metadata": {},
   "outputs": [],
   "source": [
    "api_key = \"Do Not share this at end\"\n",
    "baseurl = \"http://api.weatherapi.com/v1\"\n",
    "city = \"Pittsburgh\""
   ]
  },
  {
   "cell_type": "code",
   "execution_count": 72,
   "id": "375eb81a",
   "metadata": {},
   "outputs": [
    {
     "data": {
      "text/plain": [
       "200"
      ]
     },
     "execution_count": 72,
     "metadata": {},
     "output_type": "execute_result"
    }
   ],
   "source": [
    "today = pd.Timestamp.now().strftime(\"%Y-%m-%d\")\n",
    "astronomy_url = f\"{baseurl}/astronomy.json?key={api_key}&q={city}&dt={today}\"\n",
    "response = requests.get(astronomy_url)\n",
    "response.status_code"
   ]
  },
  {
   "cell_type": "code",
   "execution_count": 73,
   "id": "9b793b3f",
   "metadata": {},
   "outputs": [
    {
     "data": {
      "text/plain": [
       "{'location': {'name': 'Pittsburgh',\n",
       "  'region': 'Pennsylvania',\n",
       "  'country': 'United States of America',\n",
       "  'lat': 40.4406,\n",
       "  'lon': -79.9961,\n",
       "  'tz_id': 'America/New_York',\n",
       "  'localtime_epoch': 1758489256,\n",
       "  'localtime': '2025-09-21 17:14'},\n",
       " 'astronomy': {'astro': {'sunrise': '07:07 AM',\n",
       "   'sunset': '07:18 PM',\n",
       "   'moonrise': '06:51 AM',\n",
       "   'moonset': '07:11 PM',\n",
       "   'moon_phase': 'New Moon',\n",
       "   'moon_illumination': 0,\n",
       "   'is_moon_up': 1,\n",
       "   'is_sun_up': 1}}}"
      ]
     },
     "execution_count": 73,
     "metadata": {},
     "output_type": "execute_result"
    }
   ],
   "source": [
    "data = response.json()\n",
    "data"
   ]
  },
  {
   "cell_type": "code",
   "execution_count": 74,
   "id": "34346da9",
   "metadata": {},
   "outputs": [],
   "source": [
    "def astronomy_data(city):\n",
    "    url = f\"{baseurl}/astronomy.json?key={api_key}&q={city}&dt={today}\"\n",
    "    response = requests.get(url)\n",
    "\n",
    "    if response.status_code == 200:\n",
    "        data = response.json()\n",
    "        astronomy = data['astronomy']['astro']  # FIXED HERE\n",
    "        location = data['location']\n",
    "\n",
    "        sunrise = astronomy['sunrise']\n",
    "        sunset = astronomy['sunset']\n",
    "        moon_phase = astronomy['moon_phase']\n",
    "\n",
    "        print(f\"Sunrise and Sunset information for {location['name']}, {location['region']}\")\n",
    "        print(f\"Sunrise: {sunrise}\")\n",
    "        print(f\"Sunset: {sunset}\")\n",
    "        print(f\"Moon Phase: {moon_phase}\")\n",
    "    else:\n",
    "        print(\"No data available. Please check the city name or API key.\")\n",
    "    #get some astronomical data\n",
    "    #get anything else you want (challenge)\n",
    "\n",
    "    #build a summary for the city, save that summary into a dictionary"
   ]
  },
  {
   "cell_type": "code",
   "execution_count": 75,
   "id": "c88bb02f",
   "metadata": {},
   "outputs": [
    {
     "name": "stdout",
     "output_type": "stream",
     "text": [
      "Sunrise and Sunset information for Pittsburgh, Pennsylvania\n",
      "Sunrise: 07:07 AM\n",
      "Sunset: 07:18 PM\n",
      "Moon Phase: New Moon\n"
     ]
    }
   ],
   "source": [
    "astronomy_data(city)"
   ]
  },
  {
   "cell_type": "code",
   "execution_count": null,
   "id": "68696288",
   "metadata": {},
   "outputs": [],
   "source": []
  }
 ],
 "metadata": {
  "kernelspec": {
   "display_name": "Python 3",
   "language": "python",
   "name": "python3"
  },
  "language_info": {
   "codemirror_mode": {
    "name": "ipython",
    "version": 3
   },
   "file_extension": ".py",
   "mimetype": "text/x-python",
   "name": "python",
   "nbconvert_exporter": "python",
   "pygments_lexer": "ipython3",
   "version": "3.13.7"
  }
 },
 "nbformat": 4,
 "nbformat_minor": 5
}
