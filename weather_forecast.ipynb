{
 "cells": [
  {
   "cell_type": "code",
   "execution_count": 1,
   "id": "5e9330a2",
   "metadata": {},
   "outputs": [],
   "source": [
    "import requests\n",
    "import pandas as pd\n",
    "from datetime import datetime"
   ]
  },
  {
   "cell_type": "code",
   "execution_count": null,
   "id": "9efa00d5",
   "metadata": {},
   "outputs": [],
   "source": [
    "api_key = \"Do Not Share this at end\"\n",
    "baseurl = \"http://api.weatherapi.com/v1\"\n",
    "# f\"http://api.weatherapi.com/v1/current.json?key={lauren_key}&q={city}\"\n",
    "city = \"Louisville\""
   ]
  },
  {
   "cell_type": "code",
   "execution_count": 3,
   "id": "e9fee710",
   "metadata": {},
   "outputs": [
    {
     "data": {
      "text/plain": [
       "200"
      ]
     },
     "execution_count": 3,
     "metadata": {},
     "output_type": "execute_result"
    }
   ],
   "source": [
    "response = requests.get(f\"http://api.weatherapi.com/v1/current.json?key={api_key}&q={city}\")\n",
    "response.status_code"
   ]
  },
  {
   "cell_type": "code",
   "execution_count": 4,
   "id": "7639588a",
   "metadata": {},
   "outputs": [
    {
     "data": {
      "text/plain": [
       "{'location': {'name': 'Louisville',\n",
       "  'region': 'Kentucky',\n",
       "  'country': 'United States of America',\n",
       "  'lat': 38.2542,\n",
       "  'lon': -85.7594,\n",
       "  'tz_id': 'America/Kentucky/Louisville',\n",
       "  'localtime_epoch': 1758489743,\n",
       "  'localtime': '2025-09-21 17:22'},\n",
       " 'current': {'last_updated_epoch': 1758489300,\n",
       "  'last_updated': '2025-09-21 17:15',\n",
       "  'temp_c': 27.2,\n",
       "  'temp_f': 81.0,\n",
       "  'is_day': 1,\n",
       "  'condition': {'text': 'Partly cloudy',\n",
       "   'icon': '//cdn.weatherapi.com/weather/64x64/day/116.png',\n",
       "   'code': 1003},\n",
       "  'wind_mph': 5.6,\n",
       "  'wind_kph': 9.0,\n",
       "  'wind_degree': 192,\n",
       "  'wind_dir': 'SSW',\n",
       "  'pressure_mb': 1016.0,\n",
       "  'pressure_in': 29.99,\n",
       "  'precip_mm': 0.0,\n",
       "  'precip_in': 0.0,\n",
       "  'humidity': 67,\n",
       "  'cloud': 50,\n",
       "  'feelslike_c': 28.0,\n",
       "  'feelslike_f': 82.4,\n",
       "  'windchill_c': 29.9,\n",
       "  'windchill_f': 85.8,\n",
       "  'heatindex_c': 31.9,\n",
       "  'heatindex_f': 89.4,\n",
       "  'dewpoint_c': 18.8,\n",
       "  'dewpoint_f': 65.9,\n",
       "  'vis_km': 16.0,\n",
       "  'vis_miles': 9.0,\n",
       "  'uv': 1.8,\n",
       "  'gust_mph': 8.7,\n",
       "  'gust_kph': 14.1,\n",
       "  'short_rad': 275.72,\n",
       "  'diff_rad': 124.82,\n",
       "  'dni': 0.0,\n",
       "  'gti': 117.34}}"
      ]
     },
     "execution_count": 4,
     "metadata": {},
     "output_type": "execute_result"
    }
   ],
   "source": [
    "data = response.json()\n",
    "data"
   ]
  },
  {
   "cell_type": "code",
   "execution_count": 5,
   "id": "0fec35ed",
   "metadata": {},
   "outputs": [
    {
     "data": {
      "text/plain": [
       "200"
      ]
     },
     "execution_count": 5,
     "metadata": {},
     "output_type": "execute_result"
    }
   ],
   "source": [
    "forecast_url = f\"{baseurl}/forecast.json?key={api_key}&q={city}&days=3\"\n",
    "forecast_response = requests.get(forecast_url)\n",
    "forecast_response.status_code\n"
   ]
  },
  {
   "cell_type": "code",
   "execution_count": 6,
   "id": "2505a876",
   "metadata": {},
   "outputs": [],
   "source": [
    "forecast_data = forecast_response.json()\n",
    "forecast = forecast_data['forecast'][\"forecastday\"]"
   ]
  },
  {
   "cell_type": "code",
   "execution_count": 7,
   "id": "5218f40e",
   "metadata": {},
   "outputs": [],
   "source": [
    "forecast_3_day_summary = []\n",
    "for day in forecast: \n",
    "    forecast_3_day_summary.append(f\"{day['date']}: High {day['day']['maxtemp_f']}°F, Low {day['day']['mintemp_f']}°F - {day['day']['condition']['text']}\")"
   ]
  },
  {
   "cell_type": "code",
   "execution_count": 8,
   "id": "e930e982",
   "metadata": {},
   "outputs": [
    {
     "data": {
      "text/plain": [
       "['2025-09-21: High 87.1°F, Low 65.5°F - Sunny',\n",
       " '2025-09-22: High 80.4°F, Low 67.4°F - Heavy rain',\n",
       " '2025-09-23: High 89.6°F, Low 65.1°F - Moderate rain']"
      ]
     },
     "execution_count": 8,
     "metadata": {},
     "output_type": "execute_result"
    }
   ],
   "source": [
    "forecast_3_day_summary"
   ]
  },
  {
   "cell_type": "code",
   "execution_count": 9,
   "id": "308c75b6",
   "metadata": {},
   "outputs": [],
   "source": [
    "forecast_3_day_summary = []\n",
    "for day in forecast:\n",
    "    date_obj = datetime.strptime(day['date'], '%Y-%m-%d')\n",
    "    formatted_date = date_obj.strftime('%A, %B, %#d')\n",
    "    forecast_3_day_summary.append(f\"{formatted_date}: High {day['day']['maxtemp_f']}°F, Low {day['day']['mintemp_f']}°F - {day['day']['condition']['text']}\")"
   ]
  },
  {
   "cell_type": "code",
   "execution_count": 10,
   "id": "903c2d89",
   "metadata": {},
   "outputs": [
    {
     "data": {
      "text/plain": [
       "['Sunday, September, 21: High 87.1°F, Low 65.5°F - Sunny',\n",
       " 'Monday, September, 22: High 80.4°F, Low 67.4°F - Heavy rain',\n",
       " 'Tuesday, September, 23: High 89.6°F, Low 65.1°F - Moderate rain']"
      ]
     },
     "execution_count": 10,
     "metadata": {},
     "output_type": "execute_result"
    }
   ],
   "source": [
    "forecast_3_day_summary"
   ]
  },
  {
   "cell_type": "code",
   "execution_count": null,
   "id": "8ccf7452",
   "metadata": {},
   "outputs": [],
   "source": []
  },
  {
   "cell_type": "code",
   "execution_count": 11,
   "id": "b70cc4b2",
   "metadata": {},
   "outputs": [],
   "source": [
    "# MOVED THIS TO ANOTHER NOTEBOOK TO START FROM BEGINNING\n",
    "# \n",
    "# today = pd.Timestamp.now().strftime(\"%Y-%m-%d\")\n",
    "# astronomy_url = f\"{baseurl}/astronomy.json?key={api_key}&q={city}&dt={today}\"\n"
   ]
  },
  {
   "cell_type": "code",
   "execution_count": 12,
   "id": "8c5c5f1e",
   "metadata": {},
   "outputs": [],
   "source": [
    "# def get_city_data(city, api_key):\n",
    "    #get current weather\n",
    "    #get a forecast\n",
    "    #get some astronomical data\n",
    "    #get anything else you want (challenge)\n",
    "\n",
    "    #build a summary for the city, save that summary into a dictionary\n",
    "\n",
    "    "
   ]
  }
 ],
 "metadata": {
  "kernelspec": {
   "display_name": "Python 3",
   "language": "python",
   "name": "python3"
  },
  "language_info": {
   "codemirror_mode": {
    "name": "ipython",
    "version": 3
   },
   "file_extension": ".py",
   "mimetype": "text/x-python",
   "name": "python",
   "nbconvert_exporter": "python",
   "pygments_lexer": "ipython3",
   "version": "3.13.7"
  }
 },
 "nbformat": 4,
 "nbformat_minor": 5
}
